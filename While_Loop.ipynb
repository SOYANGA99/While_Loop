{
 "cells": [
  {
   "cell_type": "code",
   "execution_count": 1,
   "id": "1a5e1e42-6013-4a94-89b1-f5d865aced11",
   "metadata": {},
   "outputs": [
    {
     "name": "stdout",
     "output_type": "stream",
     "text": [
      "1\n",
      "2\n",
      "3\n",
      "4\n",
      "5\n",
      "6\n",
      "7\n",
      "8\n",
      "9\n",
      "10\n"
     ]
    }
   ],
   "source": [
    "a=1\n",
    "while a<=10:\n",
    "    print(a)\n",
    "    a=a+1"
   ]
  },
  {
   "cell_type": "markdown",
   "id": "f3fad35b-1a18-4f10-a4da-f3166ac56b00",
   "metadata": {},
   "source": [
    "# sum up the number till the point"
   ]
  },
  {
   "cell_type": "code",
   "execution_count": 2,
   "id": "18c968e8-11c0-4c7a-897b-6fb9d0cab533",
   "metadata": {},
   "outputs": [
    {
     "name": "stdin",
     "output_type": "stream",
     "text": [
      "Enter your limit:- 5\n"
     ]
    },
    {
     "name": "stdout",
     "output_type": "stream",
     "text": [
      "15\n"
     ]
    }
   ],
   "source": [
    "n=int(input(\"Enter your limit:-\"))\n",
    "starting_point=0\n",
    "counter=1\n",
    "while counter<=n:\n",
    "    starting_point=starting_point+counter\n",
    "    counter+=1\n",
    "print(starting_point)"
   ]
  },
  {
   "cell_type": "code",
   "execution_count": 3,
   "id": "cdf3e9d6-b65c-41a9-bfc9-72a52cb11fa5",
   "metadata": {},
   "outputs": [
    {
     "data": {
      "text/plain": [
       "(1, 2, 3, 4, 5)"
      ]
     },
     "execution_count": 3,
     "metadata": {},
     "output_type": "execute_result"
    }
   ],
   "source": [
    "1,2,3,4,5"
   ]
  },
  {
   "cell_type": "code",
   "execution_count": 4,
   "id": "04230975-3070-4971-80b8-513ce27c2c24",
   "metadata": {},
   "outputs": [
    {
     "name": "stdin",
     "output_type": "stream",
     "text": [
      "Enter your Number:- 6\n"
     ]
    },
    {
     "data": {
      "text/plain": [
       "720"
      ]
     },
     "execution_count": 4,
     "metadata": {},
     "output_type": "execute_result"
    }
   ],
   "source": [
    "#Factorial\n",
    "number=int(input(\"Enter your Number:-\"))\n",
    "factorial=1\n",
    "while number > 0:\n",
    "    factorial=factorial*number\n",
    "    number=number-1\n",
    "factorial"
   ]
  },
  {
   "cell_type": "code",
   "execution_count": 5,
   "id": "0fe0b39a-e730-4ec6-bd7a-f4004ba1af1d",
   "metadata": {},
   "outputs": [
    {
     "name": "stdin",
     "output_type": "stream",
     "text": [
      "enter the number of element you are looking for:- 9\n"
     ]
    },
    {
     "name": "stdout",
     "output_type": "stream",
     "text": [
      "0\n",
      "1\n",
      "1\n",
      "2\n",
      "3\n",
      "5\n",
      "8\n",
      "13\n",
      "21\n"
     ]
    }
   ],
   "source": [
    "#Fibonacci Series\n",
    "number=int(input(\"enter the number of element you are looking for:-\"))\n",
    "a,b=0,1\n",
    "counter=0\n",
    "while counter < number:\n",
    "    print (a)\n",
    "    c=a+b\n",
    "    a=b\n",
    "    b=c\n",
    "    counter+=1\n",
    "    "
   ]
  },
  {
   "cell_type": "code",
   "execution_count": 6,
   "id": "b757675e-9f38-4745-aec4-3c4d1a43431d",
   "metadata": {},
   "outputs": [
    {
     "name": "stdout",
     "output_type": "stream",
     "text": [
      "0\n",
      "1\n",
      "1\n",
      "2\n",
      "3\n",
      "5\n",
      "8\n",
      "13\n",
      "21\n",
      "34\n"
     ]
    }
   ],
   "source": [
    "#In For Loop\n",
    "a,b=0,1\n",
    "for i in range(10):\n",
    "    print(a)\n",
    "    c=a+b\n",
    "    a=b\n",
    "    b=c\n",
    "    "
   ]
  },
  {
   "cell_type": "code",
   "execution_count": 7,
   "id": "34d96466-8844-4fb6-aa48-1aaa9e9e2ba1",
   "metadata": {},
   "outputs": [],
   "source": [
    "s=\"silu\""
   ]
  },
  {
   "cell_type": "code",
   "execution_count": 8,
   "id": "e92c883e-9ece-4835-9427-6c4122006d76",
   "metadata": {},
   "outputs": [
    {
     "data": {
      "text/plain": [
       "'ulis'"
      ]
     },
     "execution_count": 8,
     "metadata": {},
     "output_type": "execute_result"
    }
   ],
   "source": [
    "s[::-1]"
   ]
  },
  {
   "cell_type": "code",
   "execution_count": 9,
   "id": "4715c45b-d65d-4ae5-a2a9-888944e67288",
   "metadata": {},
   "outputs": [
    {
     "name": "stdin",
     "output_type": "stream",
     "text": [
      "Enter your string for reversal:- jisoo\n"
     ]
    },
    {
     "name": "stdout",
     "output_type": "stream",
     "text": [
      " oosij\n"
     ]
    }
   ],
   "source": [
    "word = input(\"Enter your string for reversal:-\")\n",
    "reverse = \" \"\n",
    "length = len(word)\n",
    "while length > 0:\n",
    "    reverse = reverse + word[length-1]\n",
    "    length-=1\n",
    "print(reverse)"
   ]
  },
  {
   "cell_type": "code",
   "execution_count": 10,
   "id": "35f16982-5bea-4753-a111-76193c457aae",
   "metadata": {},
   "outputs": [
    {
     "name": "stdin",
     "output_type": "stream",
     "text": [
      "Enter your no:- 7\n"
     ]
    },
    {
     "name": "stdout",
     "output_type": "stream",
     "text": [
      "7  *  1  =  7\n",
      "7  *  2  =  14\n",
      "7  *  3  =  21\n",
      "7  *  4  =  28\n",
      "7  *  5  =  35\n",
      "7  *  6  =  42\n",
      "7  *  7  =  49\n",
      "7  *  8  =  56\n",
      "7  *  9  =  63\n",
      "7  *  10  =  70\n"
     ]
    }
   ],
   "source": [
    "#print Table of Numbers:-\n",
    "no = int(input(\"Enter your no:-\"))\n",
    "i=1\n",
    "while i <= 10:\n",
    "    result = no * i\n",
    "    print(no, \" * \", i ,\" = \",result)\n",
    "    i+=1"
   ]
  },
  {
   "cell_type": "code",
   "execution_count": 11,
   "id": "5ef6d598-9091-4494-938c-fef625b4186d",
   "metadata": {},
   "outputs": [
    {
     "name": "stdout",
     "output_type": "stream",
     "text": [
      "1\n",
      "2\n",
      "3\n",
      "4\n",
      "This will be executed once your while will complete it successfully\n"
     ]
    }
   ],
   "source": [
    "n=5\n",
    "i=1\n",
    "while i < n:\n",
    "    print(i)\n",
    "    i+=1\n",
    "else :\n",
    "    print(\"This will be executed once your while will complete it successfully\")"
   ]
  },
  {
   "cell_type": "code",
   "execution_count": 13,
   "id": "5b56a366-1fae-4b8a-8429-9861e93895e8",
   "metadata": {},
   "outputs": [
    {
     "name": "stdout",
     "output_type": "stream",
     "text": [
      "1\n",
      "2\n",
      "3\n"
     ]
    }
   ],
   "source": [
    "#Break sataement:-\n",
    "n=5\n",
    "i=1\n",
    "while i < n:\n",
    "    print(i)\n",
    "    if i == 3:\n",
    "        break\n",
    "    i+=1\n",
    "else :\n",
    "    print(\"This will be executed once your while will complete it successfully\")"
   ]
  },
  {
   "cell_type": "code",
   "execution_count": null,
   "id": "202e9c97-39f4-4b4d-9e2e-a3ee4905c67b",
   "metadata": {},
   "outputs": [],
   "source": []
  },
  {
   "cell_type": "code",
   "execution_count": null,
   "id": "d82abde3-1380-400f-a335-ef53a5d1cc29",
   "metadata": {},
   "outputs": [],
   "source": []
  }
 ],
 "metadata": {
  "kernelspec": {
   "display_name": "Python 3 (ipykernel)",
   "language": "python",
   "name": "python3"
  },
  "language_info": {
   "codemirror_mode": {
    "name": "ipython",
    "version": 3
   },
   "file_extension": ".py",
   "mimetype": "text/x-python",
   "name": "python",
   "nbconvert_exporter": "python",
   "pygments_lexer": "ipython3",
   "version": "3.10.6"
  }
 },
 "nbformat": 4,
 "nbformat_minor": 5
}
